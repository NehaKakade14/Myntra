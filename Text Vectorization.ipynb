{
 "cells": [
  {
   "cell_type": "code",
   "execution_count": 1,
   "id": "fc6fdd4e",
   "metadata": {},
   "outputs": [
    {
     "name": "stdout",
     "output_type": "stream",
     "text": [
      "Requirement already satisfied: scikit-learn in c:\\users\\nehak\\anaconda3\\lib\\site-packages (1.4.2)\n",
      "Requirement already satisfied: pandas in c:\\users\\nehak\\anaconda3\\lib\\site-packages (1.4.2)\n",
      "Requirement already satisfied: numpy>=1.19.5 in c:\\users\\nehak\\anaconda3\\lib\\site-packages (from scikit-learn) (1.22.4)\n",
      "Requirement already satisfied: scipy>=1.6.0 in c:\\users\\nehak\\anaconda3\\lib\\site-packages (from scikit-learn) (1.7.3)\n",
      "Requirement already satisfied: joblib>=1.2.0 in c:\\users\\nehak\\appdata\\roaming\\python\\python39\\site-packages (from scikit-learn) (1.3.1)\n",
      "Requirement already satisfied: threadpoolctl>=2.0.0 in c:\\users\\nehak\\anaconda3\\lib\\site-packages (from scikit-learn) (3.5.0)\n",
      "Requirement already satisfied: python-dateutil>=2.8.1 in c:\\users\\nehak\\anaconda3\\lib\\site-packages (from pandas) (2.8.2)\n",
      "Requirement already satisfied: pytz>=2020.1 in c:\\users\\nehak\\anaconda3\\lib\\site-packages (from pandas) (2021.3)\n",
      "Requirement already satisfied: six>=1.5 in c:\\users\\nehak\\anaconda3\\lib\\site-packages (from python-dateutil>=2.8.1->pandas) (1.16.0)\n",
      "Note: you may need to restart the kernel to use updated packages.\n"
     ]
    },
    {
     "name": "stderr",
     "output_type": "stream",
     "text": [
      "\n",
      "[notice] A new release of pip is available: 24.0 -> 24.1.2\n",
      "[notice] To update, run: python.exe -m pip install --upgrade pip\n"
     ]
    }
   ],
   "source": [
    "pip install scikit-learn pandas"
   ]
  },
  {
   "cell_type": "code",
   "execution_count": 3,
   "id": "f9dee724",
   "metadata": {},
   "outputs": [],
   "source": [
    "import pandas as pd"
   ]
  },
  {
   "cell_type": "code",
   "execution_count": 4,
   "id": "80059d9e",
   "metadata": {},
   "outputs": [],
   "source": [
    "df=pd.read_csv('DummyMyntraDataset.csv')"
   ]
  },
  {
   "cell_type": "code",
   "execution_count": 5,
   "id": "f3310c59",
   "metadata": {},
   "outputs": [
    {
     "data": {
      "text/plain": [
       "Index(['p_id', 'name', 'price', 'colour', 'brand', 'img', 'ratingCount',\n",
       "       'avg_rating', 'Body Shape ID', 'Body or Garment Size', 'Bottom Closure',\n",
       "       'Bottom Fabric', 'Bottom Pattern', 'Bottom Type', 'Dupatta',\n",
       "       'Dupatta Border', 'Dupatta Fabric', 'Dupatta Pattern', 'Main Trend',\n",
       "       'Neck', 'Number of Pockets', 'Occasion', 'Pattern Coverage',\n",
       "       'Print or Pattern Type', 'Sleeve Length', 'Sleeve Styling',\n",
       "       'Slit Detail', 'Stitch', 'Sustainable', 'Top Design Styling',\n",
       "       'Top Fabric', 'Top Hemline', 'Top Length', 'Top Pattern', 'Top Shape',\n",
       "       'Top Type', 'Waistband', 'Wash Care', 'Weave Pattern', 'Weave Type',\n",
       "       'Ornamentation'],\n",
       "      dtype='object')"
      ]
     },
     "execution_count": 5,
     "metadata": {},
     "output_type": "execute_result"
    }
   ],
   "source": [
    "df.columns"
   ]
  },
  {
   "cell_type": "code",
   "execution_count": 6,
   "id": "2714177f",
   "metadata": {},
   "outputs": [],
   "source": [
    "# List of text columns to combine for TF-IDF\n",
    "text_columns = ['Body Shape ID', 'Body or Garment Size', 'Bottom Closure',\n",
    "                'Bottom Fabric', 'Bottom Pattern', 'Bottom Type', 'Dupatta',\n",
    "                'Dupatta Border', 'Dupatta Fabric', 'Dupatta Pattern', 'Main Trend',\n",
    "                'Neck', 'Occasion', 'Pattern Coverage', 'Print or Pattern Type',\n",
    "                'Sleeve Length', 'Sleeve Styling', 'Slit Detail', 'Stitch', 'Sustainable',\n",
    "                'Top Design Styling', 'Top Fabric', 'Top Hemline', 'Top Length',\n",
    "                'Top Pattern', 'Top Shape', 'Top Type', 'Waistband', 'Wash Care',\n",
    "                'Weave Pattern', 'Weave Type', 'Ornamentation']\n",
    "\n",
    "# Combine text columns into a single column\n",
    "df['combined_text'] = df[text_columns].apply(lambda x: ' '.join(x.dropna().astype(str)), axis=1)"
   ]
  },
  {
   "cell_type": "code",
   "execution_count": 9,
   "id": "d48f66cd",
   "metadata": {},
   "outputs": [],
   "source": [
    "from sklearn.feature_extraction.text import TfidfVectorizer\n",
    "# Initialize the TF-IDF vectorizer\n",
    "vectorizer = TfidfVectorizer(max_features=500)  # Adjust max_features as needed"
   ]
  },
  {
   "cell_type": "code",
   "execution_count": 10,
   "id": "75be7021",
   "metadata": {},
   "outputs": [],
   "source": [
    "# Fit and transform the combined text data\n",
    "tfidf_matrix = vectorizer.fit_transform(df['combined_text'])"
   ]
  },
  {
   "cell_type": "code",
   "execution_count": 11,
   "id": "e93a559a",
   "metadata": {},
   "outputs": [],
   "source": [
    "# Convert the TF-IDF matrix to a DataFrame\n",
    "tfidf_df = pd.DataFrame(tfidf_matrix.toarray(), columns=vectorizer.get_feature_names_out())"
   ]
  },
  {
   "cell_type": "code",
   "execution_count": 12,
   "id": "7a9b0509",
   "metadata": {},
   "outputs": [],
   "source": [
    "# Add the TF-IDF features to the original dataframe\n",
    "df = pd.concat([df, tfidf_df], axis=1)"
   ]
  },
  {
   "cell_type": "code",
   "execution_count": 13,
   "id": "7445d7e2",
   "metadata": {},
   "outputs": [],
   "source": [
    "# Drop the combined text column as it's no longer needed\n",
    "df.drop(columns=['combined_text'], inplace=True)"
   ]
  },
  {
   "cell_type": "code",
   "execution_count": 14,
   "id": "0f6c4ba5",
   "metadata": {},
   "outputs": [
    {
     "name": "stdout",
     "output_type": "stream",
     "text": [
      "Text vectorization completed successfully!\n"
     ]
    }
   ],
   "source": [
    "# Save the updated DataFrame to a new CSV file\n",
    "df.to_csv('DummyUpdated1', index=False)\n",
    "print(\"Text vectorization completed successfully!\")"
   ]
  },
  {
   "cell_type": "code",
   "execution_count": null,
   "id": "8719c2e5",
   "metadata": {},
   "outputs": [],
   "source": []
  }
 ],
 "metadata": {
  "kernelspec": {
   "display_name": "Python 3 (ipykernel)",
   "language": "python",
   "name": "python3"
  },
  "language_info": {
   "codemirror_mode": {
    "name": "ipython",
    "version": 3
   },
   "file_extension": ".py",
   "mimetype": "text/x-python",
   "name": "python",
   "nbconvert_exporter": "python",
   "pygments_lexer": "ipython3",
   "version": "3.9.12"
  }
 },
 "nbformat": 4,
 "nbformat_minor": 5
}
